{
 "cells": [
  {
   "cell_type": "code",
   "execution_count": 1,
   "metadata": {},
   "outputs": [
    {
     "ename": "NameError",
     "evalue": "name 'torch' is not defined",
     "output_type": "error",
     "traceback": [
      "\u001b[1;31m---------------------------------------------------------------------------\u001b[0m",
      "\u001b[1;31mNameError\u001b[0m                                 Traceback (most recent call last)",
      "Cell \u001b[1;32mIn[1], line 8\u001b[0m\n\u001b[0;32m      5\u001b[0m \u001b[38;5;28;01mfrom\u001b[39;00m \u001b[38;5;21;01mtorchvision\u001b[39;00m \u001b[38;5;28;01mimport\u001b[39;00m transforms, models, datasets\n\u001b[0;32m      6\u001b[0m \u001b[38;5;28;01mfrom\u001b[39;00m \u001b[38;5;21;01mtorchvision\u001b[39;00m\u001b[38;5;21;01m.\u001b[39;00m\u001b[38;5;21;01mops\u001b[39;00m \u001b[38;5;28;01mimport\u001b[39;00m nms\n\u001b[1;32m----> 8\u001b[0m device \u001b[38;5;241m=\u001b[39m \u001b[38;5;124m'\u001b[39m\u001b[38;5;124mcuda\u001b[39m\u001b[38;5;124m'\u001b[39m \u001b[38;5;28;01mif\u001b[39;00m \u001b[43mtorch\u001b[49m\u001b[38;5;241m.\u001b[39mcuda\u001b[38;5;241m.\u001b[39mis_available() \u001b[38;5;28;01melse\u001b[39;00m \u001b[38;5;124m'\u001b[39m\u001b[38;5;124mcpu\u001b[39m\u001b[38;5;124m'\u001b[39m\n",
      "\u001b[1;31mNameError\u001b[0m: name 'torch' is not defined"
     ]
    }
   ],
   "source": [
    "from torch.utils.data import Dataset\n",
    "import os\n",
    "import json\n",
    "from PIL import Image\n",
    "from torchvision import transforms, models, datasets\n",
    "from torchvision.ops import nms\n",
    "\n",
    "device = 'cuda' if torch.cuda.is_available() else 'cpu'"
   ]
  },
  {
   "cell_type": "code",
   "execution_count": null,
   "metadata": {},
   "outputs": [],
   "source": [
    "IMAGE_ROOT = 'images/images'\n",
    "DF_RAW = pd.read_csv('df.csv')\n",
    "print(DF_RAW.head())"
   ]
  },
  {
   "cell_type": "code",
   "execution_count": 9,
   "metadata": {},
   "outputs": [
    {
     "name": "stdout",
     "output_type": "stream",
     "text": [
      "['laptop\\\\laptop_0.jpg', 'laptop\\\\laptop_1.jpg', 'laptop\\\\laptop_10.jpg', 'laptop\\\\laptop_100.jpg', 'laptop\\\\laptop_101.jpg', 'laptop\\\\laptop_102.jpg', 'laptop\\\\laptop_103.jpg', 'laptop\\\\laptop_104.jpg', 'laptop\\\\laptop_105.jpg', 'laptop\\\\laptop_106.jpg', 'laptop\\\\laptop_107.jpg', 'laptop\\\\laptop_108.jpg', 'laptop\\\\laptop_11.jpg', 'laptop\\\\laptop_12.jpg', 'laptop\\\\laptop_13.jpg', 'laptop\\\\laptop_14.jpg', 'laptop\\\\laptop_15.jpg', 'laptop\\\\laptop_16.jpg', 'laptop\\\\laptop_17.jpg', 'laptop\\\\laptop_18.jpg', 'laptop\\\\laptop_19.jpg', 'laptop\\\\laptop_2.jpg', 'laptop\\\\laptop_20.jpg', 'laptop\\\\laptop_21.jpg', 'laptop\\\\laptop_22.jpg', 'laptop\\\\laptop_23.jpg', 'laptop\\\\laptop_24.jpg', 'laptop\\\\laptop_25.jpg', 'laptop\\\\laptop_26.jpg', 'laptop\\\\laptop_27.jpg', 'laptop\\\\laptop_28.jpg', 'laptop\\\\laptop_29.jpg', 'laptop\\\\laptop_3.jpg', 'laptop\\\\laptop_30.jpg', 'laptop\\\\laptop_31.jpg', 'laptop\\\\laptop_32.jpg', 'laptop\\\\laptop_33.jpg', 'laptop\\\\laptop_34.jpg', 'laptop\\\\laptop_35.jpg', 'laptop\\\\laptop_36.jpg', 'laptop\\\\laptop_37.jpg', 'laptop\\\\laptop_38.jpg', 'laptop\\\\laptop_39.jpg', 'laptop\\\\laptop_4.jpg', 'laptop\\\\laptop_40.jpg', 'laptop\\\\laptop_41.jpg', 'laptop\\\\laptop_42.jpg', 'laptop\\\\laptop_43.jpg', 'laptop\\\\laptop_44.jpg', 'laptop\\\\laptop_45.jpg', 'laptop\\\\laptop_46.jpg', 'laptop\\\\laptop_47.jpg', 'laptop\\\\laptop_48.jpg', 'laptop\\\\laptop_49.jpg', 'laptop\\\\laptop_5.jpg', 'laptop\\\\laptop_50.jpg', 'laptop\\\\laptop_51.jpg', 'laptop\\\\laptop_52.jpg', 'laptop\\\\laptop_53.jpg', 'laptop\\\\laptop_54.jpg', 'laptop\\\\laptop_55.jpg', 'laptop\\\\laptop_56.jpg', 'laptop\\\\laptop_57.jpg', 'laptop\\\\laptop_58.jpg', 'laptop\\\\laptop_59.jpg', 'laptop\\\\laptop_6.jpg', 'laptop\\\\laptop_60.jpg', 'laptop\\\\laptop_61.jpg', 'laptop\\\\laptop_62.jpg', 'laptop\\\\laptop_63.jpg', 'laptop\\\\laptop_64.jpg', 'laptop\\\\laptop_65.jpg', 'laptop\\\\laptop_66.jpg', 'laptop\\\\laptop_67.jpg', 'laptop\\\\laptop_68.jpg', 'laptop\\\\laptop_69.jpg', 'laptop\\\\laptop_7.jpg', 'laptop\\\\laptop_70.jpg', 'laptop\\\\laptop_71.jpg', 'laptop\\\\laptop_72.jpg', 'laptop\\\\laptop_73.jpg', 'laptop\\\\laptop_74.jpg', 'laptop\\\\laptop_75.jpg', 'laptop\\\\laptop_76.jpg', 'laptop\\\\laptop_77.jpg', 'laptop\\\\laptop_78.jpg', 'laptop\\\\laptop_79.jpg', 'laptop\\\\laptop_8.jpg', 'laptop\\\\laptop_80.jpg', 'laptop\\\\laptop_81.jpg', 'laptop\\\\laptop_82.jpg', 'laptop\\\\laptop_83.jpg', 'laptop\\\\laptop_84.jpg', 'laptop\\\\laptop_85.jpg', 'laptop\\\\laptop_86.jpg', 'laptop\\\\laptop_87.jpg', 'laptop\\\\laptop_88.jpg', 'laptop\\\\laptop_89.jpg', 'laptop\\\\laptop_9.jpg', 'laptop\\\\laptop_90.jpg', 'laptop\\\\laptop_91.jpg', 'laptop\\\\laptop_92.jpg', 'laptop\\\\laptop_93.jpg', 'laptop\\\\laptop_94.jpg', 'laptop\\\\laptop_95.jpg', 'laptop\\\\laptop_96.jpg', 'laptop\\\\laptop_97.jpg', 'laptop\\\\laptop_98.jpg', 'laptop\\\\laptop_99.jpg', 'utensils\\\\utensils_0.jpg', 'utensils\\\\utensils_1.jpg', 'utensils\\\\utensils_10.jpg', 'utensils\\\\utensils_11.jpg', 'utensils\\\\utensils_12.jpg', 'utensils\\\\utensils_13.jpg', 'utensils\\\\utensils_14.jpg', 'utensils\\\\utensils_15.jpg', 'utensils\\\\utensils_16.jpg', 'utensils\\\\utensils_17.jpg', 'utensils\\\\utensils_18.jpg', 'utensils\\\\utensils_19.jpg', 'utensils\\\\utensils_2.jpg', 'utensils\\\\utensils_20.jpg', 'utensils\\\\utensils_21.jpg', 'utensils\\\\utensils_22.jpg', 'utensils\\\\utensils_23.jpg', 'utensils\\\\utensils_24.jpg', 'utensils\\\\utensils_25.jpg', 'utensils\\\\utensils_26.jpg', 'utensils\\\\utensils_27.jpg', 'utensils\\\\utensils_28.jpg', 'utensils\\\\utensils_29.jpg', 'utensils\\\\utensils_3.jpg', 'utensils\\\\utensils_30.jpg', 'utensils\\\\utensils_31.jpg', 'utensils\\\\utensils_32.jpg', 'utensils\\\\utensils_33.jpg', 'utensils\\\\utensils_34.jpg', 'utensils\\\\utensils_35.jpg', 'utensils\\\\utensils_36.jpg', 'utensils\\\\utensils_37.jpg', 'utensils\\\\utensils_38.jpg', 'utensils\\\\utensils_39.jpg', 'utensils\\\\utensils_4.jpg', 'utensils\\\\utensils_40.jpg', 'utensils\\\\utensils_41.jpg', 'utensils\\\\utensils_42.jpg', 'utensils\\\\utensils_43.jpg', 'utensils\\\\utensils_44.jpg', 'utensils\\\\utensils_45.jpg', 'utensils\\\\utensils_46.jpg', 'utensils\\\\utensils_47.jpg', 'utensils\\\\utensils_48.jpg', 'utensils\\\\utensils_49.jpg', 'utensils\\\\utensils_5.jpg', 'utensils\\\\utensils_50.jpg', 'utensils\\\\utensils_51.jpg', 'utensils\\\\utensils_52.jpg', 'utensils\\\\utensils_53.jpg', 'utensils\\\\utensils_54.jpg', 'utensils\\\\utensils_55.jpg', 'utensils\\\\utensils_56.jpg', 'utensils\\\\utensils_57.jpg', 'utensils\\\\utensils_58.jpg', 'utensils\\\\utensils_59.jpg', 'utensils\\\\utensils_6.jpg', 'utensils\\\\utensils_60.jpg', 'utensils\\\\utensils_61.jpg', 'utensils\\\\utensils_62.jpg', 'utensils\\\\utensils_63.jpg', 'utensils\\\\utensils_64.jpg', 'utensils\\\\utensils_65.jpg', 'utensils\\\\utensils_66.jpg', 'utensils\\\\utensils_67.jpg', 'utensils\\\\utensils_68.jpg', 'utensils\\\\utensils_69.jpg', 'utensils\\\\utensils_7.jpg', 'utensils\\\\utensils_70.jpg', 'utensils\\\\utensils_71.jpg', 'utensils\\\\utensils_72.jpg', 'utensils\\\\utensils_73.jpg', 'utensils\\\\utensils_74.jpg', 'utensils\\\\utensils_75.jpg', 'utensils\\\\utensils_76.jpg', 'utensils\\\\utensils_77.jpg', 'utensils\\\\utensils_78.jpg', 'utensils\\\\utensils_79.jpg', 'utensils\\\\utensils_8.jpg', 'utensils\\\\utensils_80.jpg', 'utensils\\\\utensils_81.jpg', 'utensils\\\\utensils_82.jpg', 'utensils\\\\utensils_83.jpg', 'utensils\\\\utensils_84.jpg', 'utensils\\\\utensils_85.jpg', 'utensils\\\\utensils_86.jpg', 'utensils\\\\utensils_87.jpg', 'utensils\\\\utensils_88.jpg', 'utensils\\\\utensils_89.jpg', 'utensils\\\\utensils_9.jpg', 'utensils\\\\utensils_90.jpg', 'utensils\\\\utensils_91.jpg', 'utensils\\\\utensils_92.jpg', 'utensils\\\\utensils_93.jpg', 'utensils\\\\utensils_94.jpg', 'utensils\\\\utensils_95.jpg', 'utensils\\\\utensils_96.jpg', 'utensils\\\\utensils_97.jpg', 'utensils\\\\utensils_98.jpg']\n"
     ]
    },
    {
     "ename": "NameError",
     "evalue": "name 'show' is not defined",
     "output_type": "error",
     "traceback": [
      "\u001b[1;31m---------------------------------------------------------------------------\u001b[0m",
      "\u001b[1;31mNameError\u001b[0m                                 Traceback (most recent call last)",
      "\u001b[1;32m<ipython-input-9-7ad88f09a6c2>\u001b[0m in \u001b[0;36m<module>\u001b[1;34m\u001b[0m\n\u001b[0;32m     53\u001b[0m \u001b[1;33m\u001b[0m\u001b[0m\n\u001b[0;32m     54\u001b[0m \u001b[1;31m# Assuming you have a show function defined\u001b[0m\u001b[1;33m\u001b[0m\u001b[1;33m\u001b[0m\u001b[1;33m\u001b[0m\u001b[0m\n\u001b[1;32m---> 55\u001b[1;33m \u001b[0mshow\u001b[0m\u001b[1;33m(\u001b[0m\u001b[0mim\u001b[0m\u001b[1;33m,\u001b[0m \u001b[0mbbs\u001b[0m\u001b[1;33m=\u001b[0m\u001b[0mbbs\u001b[0m\u001b[1;33m,\u001b[0m \u001b[0mtexts\u001b[0m\u001b[1;33m=\u001b[0m\u001b[1;33m[\u001b[0m\u001b[0mstr\u001b[0m\u001b[1;33m(\u001b[0m\u001b[0mc\u001b[0m\u001b[1;33m)\u001b[0m \u001b[1;32mfor\u001b[0m \u001b[0mc\u001b[0m \u001b[1;32min\u001b[0m \u001b[0mclss\u001b[0m\u001b[1;33m]\u001b[0m\u001b[1;33m,\u001b[0m \u001b[0msz\u001b[0m\u001b[1;33m=\u001b[0m\u001b[1;36m10\u001b[0m\u001b[1;33m)\u001b[0m\u001b[1;33m\u001b[0m\u001b[1;33m\u001b[0m\u001b[0m\n\u001b[0m",
      "\u001b[1;31mNameError\u001b[0m: name 'show' is not defined"
     ]
    }
   ],
   "source": [
    "import os\n",
    "\n",
    "class OpenImages(Dataset):\n",
    "    def __init__(self, image_folder, annotation_folder):\n",
    "        self.image_folder = image_folder\n",
    "        self.annotation_folder = annotation_folder\n",
    "        self.image_files = []\n",
    "\n",
    "        # Recursively search for image files in the image folder and its subfolders\n",
    "        for root, _, files in os.walk(image_folder):\n",
    "            for file in files:\n",
    "                if file.lower().endswith(('.jpg', '.jpeg', '.png')):\n",
    "                    relative_path = os.path.relpath(root, image_folder)\n",
    "                    self.image_files.append(os.path.join(relative_path, file))\n",
    "\n",
    "    def __len__(self):\n",
    "        return len(self.image_files)\n",
    "\n",
    "    def __getitem__(self, ix):\n",
    "        print(self.image_files)\n",
    "        image_file = self.image_files[ix]\n",
    "        image_path = os.path.join(self.image_folder, image_file)\n",
    "        image = cv2.imread(image_path, 1)[...,::-1]  # convert BGR to RGB\n",
    "        h, w, _ = image.shape\n",
    "\n",
    "        # Construct the path for the YOLO annotation file\n",
    "        annotation_file = os.path.join(self.annotation_folder, \n",
    "                                       os.path.splitext(image_file)[0] + '.txt')\n",
    "        \n",
    "        boxes = []\n",
    "        classes = []\n",
    "\n",
    "        if os.path.exists(annotation_file):\n",
    "            with open(annotation_file, 'r') as f:\n",
    "                for line in f:\n",
    "                    data = line.strip().split()\n",
    "                    if len(data) == 5:\n",
    "                        class_id, x_center, y_center, width, height = map(float, data)\n",
    "                        x_min = int((x_center - width/2) * w)\n",
    "                        y_min = int((y_center - height/2) * h)\n",
    "                        x_max = int((x_center + width/2) * w)\n",
    "                        y_max = int((y_center + height/2) * h)\n",
    "                        boxes.append([x_min, y_min, x_max, y_max])\n",
    "                        classes.append(int(class_id))\n",
    "\n",
    "        return image, boxes, classes, image_path\n",
    "    \n",
    "IMAGE_ROOT = 'images'\n",
    "ANNOTATION_ROOT = 'annotations'\n",
    "\n",
    "ds = OpenImages(image_folder=IMAGE_ROOT, annotation_folder=ANNOTATION_ROOT)\n",
    "im, bbs, clss, _ = ds[9]"
   ]
  },
  {
   "cell_type": "code",
   "execution_count": 1,
   "metadata": {},
   "outputs": [
    {
     "ename": "NameError",
     "evalue": "name 'im' is not defined",
     "output_type": "error",
     "traceback": [
      "\u001b[1;31m---------------------------------------------------------------------------\u001b[0m",
      "\u001b[1;31mNameError\u001b[0m                                 Traceback (most recent call last)",
      "\u001b[1;32m<ipython-input-1-1f78213bde2d>\u001b[0m in \u001b[0;36m<module>\u001b[1;34m\u001b[0m\n\u001b[0;32m      2\u001b[0m \u001b[1;32mimport\u001b[0m \u001b[0mcv2\u001b[0m\u001b[1;33m\u001b[0m\u001b[1;33m\u001b[0m\u001b[0m\n\u001b[0;32m      3\u001b[0m \u001b[1;33m\u001b[0m\u001b[0m\n\u001b[1;32m----> 4\u001b[1;33m \u001b[0mimage\u001b[0m \u001b[1;33m=\u001b[0m \u001b[0mcv2\u001b[0m\u001b[1;33m.\u001b[0m\u001b[0mcvtColor\u001b[0m\u001b[1;33m(\u001b[0m\u001b[0mim\u001b[0m\u001b[1;33m,\u001b[0m \u001b[0mcv2\u001b[0m\u001b[1;33m.\u001b[0m\u001b[0mCOLOR_BGR2RGB\u001b[0m\u001b[1;33m)\u001b[0m\u001b[1;33m\u001b[0m\u001b[1;33m\u001b[0m\u001b[0m\n\u001b[0m\u001b[0;32m      5\u001b[0m \u001b[1;33m\u001b[0m\u001b[0m\n\u001b[0;32m      6\u001b[0m \u001b[0mfig\u001b[0m\u001b[1;33m,\u001b[0m \u001b[0max\u001b[0m \u001b[1;33m=\u001b[0m \u001b[0mplt\u001b[0m\u001b[1;33m.\u001b[0m\u001b[0msubplots\u001b[0m\u001b[1;33m(\u001b[0m\u001b[1;33m)\u001b[0m\u001b[1;33m\u001b[0m\u001b[1;33m\u001b[0m\u001b[0m\n",
      "\u001b[1;31mNameError\u001b[0m: name 'im' is not defined"
     ]
    }
   ],
   "source": [
    "import matplotlib.pyplot as plt\n",
    "import cv2\n",
    "\n",
    "image = cv2.cvtColor(im, cv2.COLOR_BGR2RGB)\n",
    "\n",
    "fig, ax = plt.subplots()\n",
    "ax.imshow(image)"
   ]
  },
  {
   "cell_type": "code",
   "execution_count": 2,
   "metadata": {},
   "outputs": [],
   "source": [
    "from torchvision import transforms\n",
    "\n",
    "transform = transforms.Compose([\n",
    "    transforms.Resize((224, 224)),\n",
    "    transforms.ToTensor(),\n",
    "    transforms.Normalize(mean=[0.485, 0.456, 0.406], std=[0.229, 0.224, 0.225])\n",
    "])\n",
    "\n",
    "dataset = CustomImageDataset(img_dir='images', \n",
    "                             annot_dir='annotions',\n",
    "                             transform=transform)"
   ]
  },
  {
   "cell_type": "code",
   "execution_count": null,
   "metadata": {},
   "outputs": [],
   "source": [
    "im, bbs, clss, _ = ds[9]\n",
    "show(im, bbs=bbs, texts=clss, sz=10)"
   ]
  },
  {
   "cell_type": "code",
   "execution_count": 3,
   "metadata": {},
   "outputs": [],
   "source": [
    "from torch.utils.data import DataLoader\n",
    "\n",
    "batch_size = 32\n",
    "dataloader = DataLoader(dataset, batch_size=batch_size, shuffle=True, num_workers=4)"
   ]
  },
  {
   "cell_type": "code",
   "execution_count": null,
   "metadata": {},
   "outputs": [],
   "source": []
  }
 ],
 "metadata": {
  "kernelspec": {
   "display_name": "term_project",
   "language": "python",
   "name": "python3"
  },
  "language_info": {
   "codemirror_mode": {
    "name": "ipython",
    "version": 3
   },
   "file_extension": ".py",
   "mimetype": "text/x-python",
   "name": "python",
   "nbconvert_exporter": "python",
   "pygments_lexer": "ipython3",
   "version": "3.9.19"
  }
 },
 "nbformat": 4,
 "nbformat_minor": 2
}
